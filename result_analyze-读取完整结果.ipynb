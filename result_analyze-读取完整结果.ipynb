{
 "cells": [
  {
   "cell_type": "code",
   "execution_count": 1,
   "metadata": {
    "collapsed": true,
    "ExecuteTime": {
     "end_time": "2024-01-09T07:24:00.621151Z",
     "start_time": "2024-01-09T07:24:00.261936Z"
    }
   },
   "outputs": [],
   "source": [
    "import pandas as pd\n",
    "import json\n",
    "import os\n",
    "import re\n",
    "import xml.etree.ElementTree as ET"
   ]
  },
  {
   "cell_type": "code",
   "execution_count": 2,
   "outputs": [
    {
     "name": "stdout",
     "output_type": "stream",
     "text": [
      "                                            entryMethod hasDataFlow  \\\n",
      "0     <org.owasp.benchmark.testcode.BenchmarkTest023...        True   \n",
      "1     <org.owasp.benchmark.testcode.BenchmarkTest006...        True   \n",
      "2     <org.owasp.benchmark.testcode.BenchmarkTest001...        True   \n",
      "3     <org.owasp.benchmark.testcode.BenchmarkTest014...        True   \n",
      "4     <org.owasp.benchmark.testcode.BenchmarkTest011...        True   \n",
      "...                                                 ...         ...   \n",
      "5642  <org.owasp.benchmark.testcode.BenchmarkTest010...        True   \n",
      "5643  <org.owasp.benchmark.testcode.BenchmarkTest005...        True   \n",
      "5644  <org.owasp.benchmark.testcode.BenchmarkTest020...        True   \n",
      "5645  <org.owasp.benchmark.testcode.BenchmarkTest022...        True   \n",
      "5646  <org.owasp.benchmark.testcode.BenchmarkTest013...        True   \n",
      "\n",
      "     hasCallStack  \n",
      "0            True  \n",
      "1            True  \n",
      "2            True  \n",
      "3            True  \n",
      "4            True  \n",
      "...           ...  \n",
      "5642         True  \n",
      "5643         True  \n",
      "5644         True  \n",
      "5645         True  \n",
      "5646         True  \n",
      "\n",
      "[5647 rows x 3 columns]\n"
     ]
    }
   ],
   "source": [
    "\n",
    "# 创建一个空的结果DataFrame\n",
    "# json_file_path = \"/Users/fortsun/Desktop/git/restfuzz-sast/output/10-24-OWASPbenchmark/Analyze_result-0-500-不使用taintsanitize.json\"\n",
    "result_df = pd.DataFrame(columns=[\"entryMethod\", \"hasDataFlow\", \"hasCallStack\"])\n",
    "\n",
    "json_file_path = f\"/Users/fortsun/Desktop/git/restfuzz-sast/output/server/benchmark2700/Analyze_result.json\"\n",
    "# result_df = pd.read_csv(\"result500.csv\")\n",
    "\n",
    "# print(result_df.loc[4,:])\n",
    "\n",
    "with open(json_file_path, \"r\") as json_file:\n",
    "    data = json.load(json_file)\n",
    "\n",
    "for vul_type in data:\n",
    "    results = data.get(vul_type, [])\n",
    "    for item in results:\n",
    "        entry_method = item.get(\"entryMethod\", \"\")\n",
    "        # if \"dataFlowResult\" not in item.keys():\n",
    "        #     print(\"?\")\n",
    "        has_data_flow = item.get(\"dataFlowResult\", {}).get(\"hasDataFlow\", False)\n",
    "        has_data_flow_str = \"True\" if has_data_flow else \"False\"\n",
    "        # result_df = result_df.append({\"entryMethod\": entry_method, \"hasDataFlow\": has_data_flow_str}, ignore_index=True)\n",
    "        result_df.loc[len(result_df)] = pd.Series({\"entryMethod\": entry_method, \"hasDataFlow\": has_data_flow_str, \"hasCallStack\": \"True\"})\n",
    "\n",
    "# 输出结果DataFrame\n",
    "print(result_df)\n",
    "\n",
    "# 可以选择将结果DataFrame保存为CSV文件\n",
    "# result_df.to_csv('result2000.csv', index=False)\n",
    "\n",
    "# print(\"CSV文件已生成\")"
   ],
   "metadata": {
    "collapsed": false,
    "ExecuteTime": {
     "end_time": "2024-01-09T07:25:01.388988Z",
     "start_time": "2024-01-09T07:24:36.319108Z"
    }
   }
  },
  {
   "cell_type": "code",
   "execution_count": 87,
   "outputs": [],
   "source": [
    "# result_df = pd.read_csv(\"result2000.csv\")"
   ],
   "metadata": {
    "collapsed": false,
    "ExecuteTime": {
     "end_time": "2023-10-27T05:56:06.119532Z",
     "start_time": "2023-10-27T05:56:06.116630Z"
    }
   }
  },
  {
   "cell_type": "code",
   "execution_count": 3,
   "outputs": [
    {
     "data": {
      "text/plain": "'02300'"
     },
     "execution_count": 3,
     "metadata": {},
     "output_type": "execute_result"
    }
   ],
   "source": [
    "def parse_test_id(input_string):\n",
    "    class_name_match = re.search(r'BenchmarkTest(\\d+)', input_string)\n",
    "    class_number = None\n",
    "    if class_name_match:\n",
    "        class_name = class_name_match.group(0)\n",
    "        class_number = class_name_match.group(1)\n",
    "        # print(\"Class Name:\", class_name)\n",
    "        # print(\"Number:\", class_number)\n",
    "    else:\n",
    "        print(\"Pattern not found\")\n",
    "    return class_number\n",
    "        \n",
    "parse_test_id(result_df.iloc[0,0])"
   ],
   "metadata": {
    "collapsed": false,
    "ExecuteTime": {
     "end_time": "2024-01-09T07:25:57.437424Z",
     "start_time": "2024-01-09T07:25:57.414279Z"
    }
   }
  },
  {
   "cell_type": "code",
   "execution_count": 4,
   "outputs": [
    {
     "name": "stdout",
     "output_type": "stream",
     "text": [
      "Pattern not found\n"
     ]
    }
   ],
   "source": [
    "result_df['test-id'] = result_df['entryMethod'].apply(parse_test_id)"
   ],
   "metadata": {
    "collapsed": false,
    "ExecuteTime": {
     "end_time": "2024-01-09T07:26:05.416752Z",
     "start_time": "2024-01-09T07:26:05.405863Z"
    }
   }
  },
  {
   "cell_type": "code",
   "execution_count": 89,
   "outputs": [],
   "source": [],
   "metadata": {
    "collapsed": false,
    "ExecuteTime": {
     "end_time": "2023-10-27T05:56:06.152790Z",
     "start_time": "2023-10-27T05:56:06.135973Z"
    }
   }
  },
  {
   "cell_type": "code",
   "execution_count": 89,
   "outputs": [],
   "source": [],
   "metadata": {
    "collapsed": false,
    "ExecuteTime": {
     "end_time": "2023-10-27T05:56:06.153009Z",
     "start_time": "2023-10-27T05:56:06.137921Z"
    }
   }
  },
  {
   "cell_type": "code",
   "execution_count": 5,
   "outputs": [
    {
     "data": {
      "text/plain": "test-id                                                     00005\nentryMethod     <org.owasp.benchmark.testcode.BenchmarkTest000...\nhasDataFlow                                                  True\nhasCallStack                                                 True\nName: 4, dtype: object"
     },
     "execution_count": 5,
     "metadata": {},
     "output_type": "execute_result"
    }
   ],
   "source": [
    "# 根据'test-id'字段合并重复的行，对'hasDataFlow'字段进行合并\n",
    "# 自定义合并函数\n",
    "def custom_merge(series):\n",
    "    for result in series:\n",
    "        if str(result) == \"True\":\n",
    "            return \"True\"\n",
    "    return \"False\"\n",
    "result_df = result_df.groupby('test-id').agg({\"entryMethod\": '; '.join, 'hasDataFlow': custom_merge, \"hasCallStack\": custom_merge}).reset_index()\n",
    "result_df.loc[4,:]"
   ],
   "metadata": {
    "collapsed": false,
    "ExecuteTime": {
     "end_time": "2024-01-09T07:26:23.640769Z",
     "start_time": "2024-01-09T07:26:23.565394Z"
    }
   }
  },
  {
   "cell_type": "code",
   "execution_count": 6,
   "outputs": [
    {
     "data": {
      "text/plain": "     test-id                                        entryMethod hasDataFlow  \\\n0      00001  <org.owasp.benchmark.testcode.BenchmarkTest000...        True   \n1      00002  <org.owasp.benchmark.testcode.BenchmarkTest000...        True   \n2      00003  <org.owasp.benchmark.testcode.BenchmarkTest000...        True   \n3      00004  <org.owasp.benchmark.testcode.BenchmarkTest000...        True   \n4      00005  <org.owasp.benchmark.testcode.BenchmarkTest000...        True   \n...      ...                                                ...         ...   \n2443   02736  <org.owasp.benchmark.testcode.BenchmarkTest027...        True   \n2444   02737  <org.owasp.benchmark.testcode.BenchmarkTest027...        True   \n2445   02738  <org.owasp.benchmark.testcode.BenchmarkTest027...        True   \n2446   02739  <org.owasp.benchmark.testcode.BenchmarkTest027...        True   \n2447   02740  <org.owasp.benchmark.testcode.BenchmarkTest027...        True   \n\n     hasCallStack  \n0            True  \n1            True  \n2            True  \n3            True  \n4            True  \n...           ...  \n2443         True  \n2444         True  \n2445         True  \n2446         True  \n2447         True  \n\n[2448 rows x 4 columns]",
      "text/html": "<div>\n<style scoped>\n    .dataframe tbody tr th:only-of-type {\n        vertical-align: middle;\n    }\n\n    .dataframe tbody tr th {\n        vertical-align: top;\n    }\n\n    .dataframe thead th {\n        text-align: right;\n    }\n</style>\n<table border=\"1\" class=\"dataframe\">\n  <thead>\n    <tr style=\"text-align: right;\">\n      <th></th>\n      <th>test-id</th>\n      <th>entryMethod</th>\n      <th>hasDataFlow</th>\n      <th>hasCallStack</th>\n    </tr>\n  </thead>\n  <tbody>\n    <tr>\n      <th>0</th>\n      <td>00001</td>\n      <td>&lt;org.owasp.benchmark.testcode.BenchmarkTest000...</td>\n      <td>True</td>\n      <td>True</td>\n    </tr>\n    <tr>\n      <th>1</th>\n      <td>00002</td>\n      <td>&lt;org.owasp.benchmark.testcode.BenchmarkTest000...</td>\n      <td>True</td>\n      <td>True</td>\n    </tr>\n    <tr>\n      <th>2</th>\n      <td>00003</td>\n      <td>&lt;org.owasp.benchmark.testcode.BenchmarkTest000...</td>\n      <td>True</td>\n      <td>True</td>\n    </tr>\n    <tr>\n      <th>3</th>\n      <td>00004</td>\n      <td>&lt;org.owasp.benchmark.testcode.BenchmarkTest000...</td>\n      <td>True</td>\n      <td>True</td>\n    </tr>\n    <tr>\n      <th>4</th>\n      <td>00005</td>\n      <td>&lt;org.owasp.benchmark.testcode.BenchmarkTest000...</td>\n      <td>True</td>\n      <td>True</td>\n    </tr>\n    <tr>\n      <th>...</th>\n      <td>...</td>\n      <td>...</td>\n      <td>...</td>\n      <td>...</td>\n    </tr>\n    <tr>\n      <th>2443</th>\n      <td>02736</td>\n      <td>&lt;org.owasp.benchmark.testcode.BenchmarkTest027...</td>\n      <td>True</td>\n      <td>True</td>\n    </tr>\n    <tr>\n      <th>2444</th>\n      <td>02737</td>\n      <td>&lt;org.owasp.benchmark.testcode.BenchmarkTest027...</td>\n      <td>True</td>\n      <td>True</td>\n    </tr>\n    <tr>\n      <th>2445</th>\n      <td>02738</td>\n      <td>&lt;org.owasp.benchmark.testcode.BenchmarkTest027...</td>\n      <td>True</td>\n      <td>True</td>\n    </tr>\n    <tr>\n      <th>2446</th>\n      <td>02739</td>\n      <td>&lt;org.owasp.benchmark.testcode.BenchmarkTest027...</td>\n      <td>True</td>\n      <td>True</td>\n    </tr>\n    <tr>\n      <th>2447</th>\n      <td>02740</td>\n      <td>&lt;org.owasp.benchmark.testcode.BenchmarkTest027...</td>\n      <td>True</td>\n      <td>True</td>\n    </tr>\n  </tbody>\n</table>\n<p>2448 rows × 4 columns</p>\n</div>"
     },
     "execution_count": 6,
     "metadata": {},
     "output_type": "execute_result"
    }
   ],
   "source": [
    "result_df"
   ],
   "metadata": {
    "collapsed": false,
    "ExecuteTime": {
     "end_time": "2024-01-09T07:26:28.793686Z",
     "start_time": "2024-01-09T07:26:28.785138Z"
    }
   }
  },
  {
   "cell_type": "code",
   "execution_count": 7,
   "outputs": [
    {
     "data": {
      "text/plain": "     test-id                                        entryMethod hasDataFlow  \\\n0      00001  <org.owasp.benchmark.testcode.BenchmarkTest000...        True   \n1      00002  <org.owasp.benchmark.testcode.BenchmarkTest000...        True   \n2      00003  <org.owasp.benchmark.testcode.BenchmarkTest000...        True   \n3      00004  <org.owasp.benchmark.testcode.BenchmarkTest000...        True   \n4      00005  <org.owasp.benchmark.testcode.BenchmarkTest000...        True   \n...      ...                                                ...         ...   \n2443   02736  <org.owasp.benchmark.testcode.BenchmarkTest027...        True   \n2444   02737  <org.owasp.benchmark.testcode.BenchmarkTest027...        True   \n2445   02738  <org.owasp.benchmark.testcode.BenchmarkTest027...        True   \n2446   02739  <org.owasp.benchmark.testcode.BenchmarkTest027...        True   \n2447   02740  <org.owasp.benchmark.testcode.BenchmarkTest027...        True   \n\n     hasCallStack  \n0            True  \n1            True  \n2            True  \n3            True  \n4            True  \n...           ...  \n2443         True  \n2444         True  \n2445         True  \n2446         True  \n2447         True  \n\n[2448 rows x 4 columns]",
      "text/html": "<div>\n<style scoped>\n    .dataframe tbody tr th:only-of-type {\n        vertical-align: middle;\n    }\n\n    .dataframe tbody tr th {\n        vertical-align: top;\n    }\n\n    .dataframe thead th {\n        text-align: right;\n    }\n</style>\n<table border=\"1\" class=\"dataframe\">\n  <thead>\n    <tr style=\"text-align: right;\">\n      <th></th>\n      <th>test-id</th>\n      <th>entryMethod</th>\n      <th>hasDataFlow</th>\n      <th>hasCallStack</th>\n    </tr>\n  </thead>\n  <tbody>\n    <tr>\n      <th>0</th>\n      <td>00001</td>\n      <td>&lt;org.owasp.benchmark.testcode.BenchmarkTest000...</td>\n      <td>True</td>\n      <td>True</td>\n    </tr>\n    <tr>\n      <th>1</th>\n      <td>00002</td>\n      <td>&lt;org.owasp.benchmark.testcode.BenchmarkTest000...</td>\n      <td>True</td>\n      <td>True</td>\n    </tr>\n    <tr>\n      <th>2</th>\n      <td>00003</td>\n      <td>&lt;org.owasp.benchmark.testcode.BenchmarkTest000...</td>\n      <td>True</td>\n      <td>True</td>\n    </tr>\n    <tr>\n      <th>3</th>\n      <td>00004</td>\n      <td>&lt;org.owasp.benchmark.testcode.BenchmarkTest000...</td>\n      <td>True</td>\n      <td>True</td>\n    </tr>\n    <tr>\n      <th>4</th>\n      <td>00005</td>\n      <td>&lt;org.owasp.benchmark.testcode.BenchmarkTest000...</td>\n      <td>True</td>\n      <td>True</td>\n    </tr>\n    <tr>\n      <th>...</th>\n      <td>...</td>\n      <td>...</td>\n      <td>...</td>\n      <td>...</td>\n    </tr>\n    <tr>\n      <th>2443</th>\n      <td>02736</td>\n      <td>&lt;org.owasp.benchmark.testcode.BenchmarkTest027...</td>\n      <td>True</td>\n      <td>True</td>\n    </tr>\n    <tr>\n      <th>2444</th>\n      <td>02737</td>\n      <td>&lt;org.owasp.benchmark.testcode.BenchmarkTest027...</td>\n      <td>True</td>\n      <td>True</td>\n    </tr>\n    <tr>\n      <th>2445</th>\n      <td>02738</td>\n      <td>&lt;org.owasp.benchmark.testcode.BenchmarkTest027...</td>\n      <td>True</td>\n      <td>True</td>\n    </tr>\n    <tr>\n      <th>2446</th>\n      <td>02739</td>\n      <td>&lt;org.owasp.benchmark.testcode.BenchmarkTest027...</td>\n      <td>True</td>\n      <td>True</td>\n    </tr>\n    <tr>\n      <th>2447</th>\n      <td>02740</td>\n      <td>&lt;org.owasp.benchmark.testcode.BenchmarkTest027...</td>\n      <td>True</td>\n      <td>True</td>\n    </tr>\n  </tbody>\n</table>\n<p>2448 rows × 4 columns</p>\n</div>"
     },
     "execution_count": 7,
     "metadata": {},
     "output_type": "execute_result"
    }
   ],
   "source": [
    "\n",
    "result_df[result_df[\"hasDataFlow\"] == \"True\"]"
   ],
   "metadata": {
    "collapsed": false,
    "ExecuteTime": {
     "end_time": "2024-01-09T07:27:13.813725Z",
     "start_time": "2024-01-09T07:27:13.793679Z"
    }
   }
  },
  {
   "cell_type": "code",
   "execution_count": 93,
   "outputs": [],
   "source": [],
   "metadata": {
    "collapsed": false,
    "ExecuteTime": {
     "end_time": "2023-10-27T05:56:06.348192Z",
     "start_time": "2023-10-27T05:56:06.345757Z"
    }
   }
  },
  {
   "cell_type": "code",
   "execution_count": 8,
   "outputs": [],
   "source": [
    "# 目录中包含XML文件的路径\n",
    "xml_dir = '/Users/fortsun/Desktop/git/BenchmarkJava/src/main/java/org/owasp/benchmark/testcode'  # 替换为实际的目录路径\n",
    "\n",
    "# 创建一个空的DataFrame来存储XML数据\n",
    "xml_data = pd.DataFrame(columns=['test-number', 'benchmark-version', 'category', 'vulnerability', 'cwe'])\n",
    "\n",
    "\n",
    "# 遍历目录下的XML文件\n",
    "for filename in os.listdir(xml_dir):\n",
    "    if filename.endswith('.xml'):\n",
    "        xml_file = os.path.join(xml_dir, filename)\n",
    "        tree = ET.parse(xml_file)\n",
    "        root = tree.getroot()\n",
    "        \n",
    "        # 提取XML数据\n",
    "        test_number = root.find('test-number').text\n",
    "        benchmark_version = root.find('benchmark-version').text\n",
    "        category = root.find('category').text\n",
    "        vulnerability = root.find('vulnerability').text\n",
    "        cwe = root.find('cwe').text\n",
    "        \n",
    "        # 将提取的数据添加到xml_data DataFrame\n",
    "        xml_data.loc[len(xml_data)] = pd.Series({'test-number': test_number, 'benchmark-version': benchmark_version,\n",
    "                                    'category': category, 'vulnerability': vulnerability, 'cwe': cwe})\n",
    "\n"
   ],
   "metadata": {
    "collapsed": false,
    "ExecuteTime": {
     "end_time": "2024-01-09T07:27:31.491030Z",
     "start_time": "2024-01-09T07:27:29.865643Z"
    }
   }
  },
  {
   "cell_type": "code",
   "execution_count": 9,
   "outputs": [],
   "source": [
    "# 合并标签和实验结果-----------------------------------------------------------------------------------------------\n",
    "xml_data['id'] = xml_data['test-number'].astype(int)\n",
    "result_df['id'] = result_df['test-id'].astype(int)\n",
    "\n",
    "merged_df = result_df.merge(xml_data, how='outer', on='id')\n",
    "merged_df = merged_df.fillna({'hasDataFlow': \"False\", \"hasCallStack\": \"False\"})\n",
    "# 使用 fillna() 方法将 'test-id' 列的空白值填充为 'test-number' 列的对应值\n",
    "merged_df['test-id'].fillna(merged_df['test-number'], inplace=True)"
   ],
   "metadata": {
    "collapsed": false,
    "ExecuteTime": {
     "end_time": "2024-01-09T07:27:33.045156Z",
     "start_time": "2024-01-09T07:27:33.029004Z"
    }
   }
  },
  {
   "cell_type": "code",
   "execution_count": 12,
   "outputs": [
    {
     "data": {
      "text/plain": "     test-id                                        entryMethod hasDataFlow  \\\n0      00001  <org.owasp.benchmark.testcode.BenchmarkTest000...        True   \n1      00002  <org.owasp.benchmark.testcode.BenchmarkTest000...        True   \n2      00003  <org.owasp.benchmark.testcode.BenchmarkTest000...        True   \n3      00004  <org.owasp.benchmark.testcode.BenchmarkTest000...        True   \n4      00005  <org.owasp.benchmark.testcode.BenchmarkTest000...        True   \n...      ...                                                ...         ...   \n2443   02736  <org.owasp.benchmark.testcode.BenchmarkTest027...        True   \n2444   02737  <org.owasp.benchmark.testcode.BenchmarkTest027...        True   \n2445   02738  <org.owasp.benchmark.testcode.BenchmarkTest027...        True   \n2446   02739  <org.owasp.benchmark.testcode.BenchmarkTest027...        True   \n2447   02740  <org.owasp.benchmark.testcode.BenchmarkTest027...        True   \n\n     hasCallStack    id test-number benchmark-version    category  \\\n0            True     1       00001               1.2  pathtraver   \n1            True     2       00002               1.2  pathtraver   \n2            True     3       00003               1.2        hash   \n3            True     4       00004               1.2  trustbound   \n4            True     5       00005               1.2      crypto   \n...           ...   ...         ...               ...         ...   \n2443         True  2736       02736               1.2        sqli   \n2444         True  2737       02737               1.2        sqli   \n2445         True  2738       02738               1.2        sqli   \n2446         True  2739       02739               1.2        sqli   \n2447         True  2740       02740               1.2        sqli   \n\n     vulnerability  cwe  \n0             true   22  \n1             true   22  \n2             true  328  \n3             true  501  \n4             true  327  \n...            ...  ...  \n2443         false   89  \n2444         false   89  \n2445         false   89  \n2446         false   89  \n2447         false   89  \n\n[2448 rows x 10 columns]",
      "text/html": "<div>\n<style scoped>\n    .dataframe tbody tr th:only-of-type {\n        vertical-align: middle;\n    }\n\n    .dataframe tbody tr th {\n        vertical-align: top;\n    }\n\n    .dataframe thead th {\n        text-align: right;\n    }\n</style>\n<table border=\"1\" class=\"dataframe\">\n  <thead>\n    <tr style=\"text-align: right;\">\n      <th></th>\n      <th>test-id</th>\n      <th>entryMethod</th>\n      <th>hasDataFlow</th>\n      <th>hasCallStack</th>\n      <th>id</th>\n      <th>test-number</th>\n      <th>benchmark-version</th>\n      <th>category</th>\n      <th>vulnerability</th>\n      <th>cwe</th>\n    </tr>\n  </thead>\n  <tbody>\n    <tr>\n      <th>0</th>\n      <td>00001</td>\n      <td>&lt;org.owasp.benchmark.testcode.BenchmarkTest000...</td>\n      <td>True</td>\n      <td>True</td>\n      <td>1</td>\n      <td>00001</td>\n      <td>1.2</td>\n      <td>pathtraver</td>\n      <td>true</td>\n      <td>22</td>\n    </tr>\n    <tr>\n      <th>1</th>\n      <td>00002</td>\n      <td>&lt;org.owasp.benchmark.testcode.BenchmarkTest000...</td>\n      <td>True</td>\n      <td>True</td>\n      <td>2</td>\n      <td>00002</td>\n      <td>1.2</td>\n      <td>pathtraver</td>\n      <td>true</td>\n      <td>22</td>\n    </tr>\n    <tr>\n      <th>2</th>\n      <td>00003</td>\n      <td>&lt;org.owasp.benchmark.testcode.BenchmarkTest000...</td>\n      <td>True</td>\n      <td>True</td>\n      <td>3</td>\n      <td>00003</td>\n      <td>1.2</td>\n      <td>hash</td>\n      <td>true</td>\n      <td>328</td>\n    </tr>\n    <tr>\n      <th>3</th>\n      <td>00004</td>\n      <td>&lt;org.owasp.benchmark.testcode.BenchmarkTest000...</td>\n      <td>True</td>\n      <td>True</td>\n      <td>4</td>\n      <td>00004</td>\n      <td>1.2</td>\n      <td>trustbound</td>\n      <td>true</td>\n      <td>501</td>\n    </tr>\n    <tr>\n      <th>4</th>\n      <td>00005</td>\n      <td>&lt;org.owasp.benchmark.testcode.BenchmarkTest000...</td>\n      <td>True</td>\n      <td>True</td>\n      <td>5</td>\n      <td>00005</td>\n      <td>1.2</td>\n      <td>crypto</td>\n      <td>true</td>\n      <td>327</td>\n    </tr>\n    <tr>\n      <th>...</th>\n      <td>...</td>\n      <td>...</td>\n      <td>...</td>\n      <td>...</td>\n      <td>...</td>\n      <td>...</td>\n      <td>...</td>\n      <td>...</td>\n      <td>...</td>\n      <td>...</td>\n    </tr>\n    <tr>\n      <th>2443</th>\n      <td>02736</td>\n      <td>&lt;org.owasp.benchmark.testcode.BenchmarkTest027...</td>\n      <td>True</td>\n      <td>True</td>\n      <td>2736</td>\n      <td>02736</td>\n      <td>1.2</td>\n      <td>sqli</td>\n      <td>false</td>\n      <td>89</td>\n    </tr>\n    <tr>\n      <th>2444</th>\n      <td>02737</td>\n      <td>&lt;org.owasp.benchmark.testcode.BenchmarkTest027...</td>\n      <td>True</td>\n      <td>True</td>\n      <td>2737</td>\n      <td>02737</td>\n      <td>1.2</td>\n      <td>sqli</td>\n      <td>false</td>\n      <td>89</td>\n    </tr>\n    <tr>\n      <th>2445</th>\n      <td>02738</td>\n      <td>&lt;org.owasp.benchmark.testcode.BenchmarkTest027...</td>\n      <td>True</td>\n      <td>True</td>\n      <td>2738</td>\n      <td>02738</td>\n      <td>1.2</td>\n      <td>sqli</td>\n      <td>false</td>\n      <td>89</td>\n    </tr>\n    <tr>\n      <th>2446</th>\n      <td>02739</td>\n      <td>&lt;org.owasp.benchmark.testcode.BenchmarkTest027...</td>\n      <td>True</td>\n      <td>True</td>\n      <td>2739</td>\n      <td>02739</td>\n      <td>1.2</td>\n      <td>sqli</td>\n      <td>false</td>\n      <td>89</td>\n    </tr>\n    <tr>\n      <th>2447</th>\n      <td>02740</td>\n      <td>&lt;org.owasp.benchmark.testcode.BenchmarkTest027...</td>\n      <td>True</td>\n      <td>True</td>\n      <td>2740</td>\n      <td>02740</td>\n      <td>1.2</td>\n      <td>sqli</td>\n      <td>false</td>\n      <td>89</td>\n    </tr>\n  </tbody>\n</table>\n<p>2448 rows × 10 columns</p>\n</div>"
     },
     "execution_count": 12,
     "metadata": {},
     "output_type": "execute_result"
    }
   ],
   "source": [
    "merged_df[merged_df[\"hasCallStack\"] == \"True\"]"
   ],
   "metadata": {
    "collapsed": false,
    "ExecuteTime": {
     "end_time": "2024-01-09T07:29:52.128161Z",
     "start_time": "2024-01-09T07:29:52.118894Z"
    }
   }
  },
  {
   "cell_type": "code",
   "execution_count": 11,
   "outputs": [
    {
     "name": "stdout",
     "output_type": "stream",
     "text": [
      "True Positives (TP): 1260\n",
      "False Positives (FP): 1188\n",
      "True Negatives (TN): 137\n",
      "False Negatives (FN): 155\n",
      "Youden指数： -0.006144409627308445\n"
     ]
    }
   ],
   "source": [
    "# 条件过滤\n",
    "alert_vul_tag = \"hasDataFlow\"\n",
    "# alert_vul_tag = \"hasCallStack\"\n",
    "tp = len(merged_df[(merged_df[alert_vul_tag] == \"True\") & (merged_df['vulnerability'] == \"true\")])\n",
    "fp = len(merged_df[(merged_df[alert_vul_tag] == \"True\") & (merged_df['vulnerability'] == \"false\")])\n",
    "tn = len(merged_df[(merged_df[alert_vul_tag] == \"False\") & (merged_df['vulnerability'] == \"false\")])\n",
    "fn = len(merged_df[(merged_df[alert_vul_tag] == \"False\") & (merged_df['vulnerability'] == \"true\")])\n",
    "\n",
    "# 输出统计结果\n",
    "print(\"True Positives (TP):\", tp)\n",
    "print(\"False Positives (FP):\", fp)\n",
    "print(\"True Negatives (TN):\", tn)\n",
    "print(\"False Negatives (FN):\", fn)\n",
    "\n",
    "tpr = tp/(tp + fn)\n",
    "fpr = fp/(tn + fp)\n",
    "youden = tpr - fpr\n",
    "print(\"Youden指数： \" + str(youden))\n"
   ],
   "metadata": {
    "collapsed": false,
    "ExecuteTime": {
     "end_time": "2024-01-09T07:27:48.995083Z",
     "start_time": "2024-01-09T07:27:48.987872Z"
    }
   }
  },
  {
   "cell_type": "code",
   "execution_count": 98,
   "outputs": [
    {
     "data": {
      "text/plain": "Empty DataFrame\nColumns: [test-id, entryMethod, hasDataFlow, hasCallStack, id, test-number, benchmark-version, category, vulnerability, cwe]\nIndex: []",
      "text/html": "<div>\n<style scoped>\n    .dataframe tbody tr th:only-of-type {\n        vertical-align: middle;\n    }\n\n    .dataframe tbody tr th {\n        vertical-align: top;\n    }\n\n    .dataframe thead th {\n        text-align: right;\n    }\n</style>\n<table border=\"1\" class=\"dataframe\">\n  <thead>\n    <tr style=\"text-align: right;\">\n      <th></th>\n      <th>test-id</th>\n      <th>entryMethod</th>\n      <th>hasDataFlow</th>\n      <th>hasCallStack</th>\n      <th>id</th>\n      <th>test-number</th>\n      <th>benchmark-version</th>\n      <th>category</th>\n      <th>vulnerability</th>\n      <th>cwe</th>\n    </tr>\n  </thead>\n  <tbody>\n  </tbody>\n</table>\n</div>"
     },
     "execution_count": 98,
     "metadata": {},
     "output_type": "execute_result"
    }
   ],
   "source": [
    "merged_df[merged_df['test-id'].isnull()]"
   ],
   "metadata": {
    "collapsed": false,
    "ExecuteTime": {
     "end_time": "2023-10-27T05:56:08.649025Z",
     "start_time": "2023-10-27T05:56:08.627169Z"
    }
   }
  },
  {
   "cell_type": "code",
   "execution_count": 99,
   "outputs": [
    {
     "name": "stdout",
     "output_type": "stream",
     "text": [
      "前2000个benchmark数据点：\n"
     ]
    },
    {
     "data": {
      "text/plain": "     test-id                                        entryMethod hasDataFlow  \\\n0          1  <org.owasp.benchmark.testcode.BenchmarkTest000...        True   \n1          2  <org.owasp.benchmark.testcode.BenchmarkTest000...        True   \n2          3  <org.owasp.benchmark.testcode.BenchmarkTest000...        True   \n3          4  <org.owasp.benchmark.testcode.BenchmarkTest000...        True   \n4          5  <org.owasp.benchmark.testcode.BenchmarkTest000...        True   \n...      ...                                                ...         ...   \n2399   01514                                                NaN       False   \n2500   01669                                                NaN       False   \n2510   01668                                                NaN       False   \n2612   01592                                                NaN       False   \n2645   01593                                                NaN       False   \n\n     hasCallStack    id test-number benchmark-version    category  \\\n0            True     1       00001               1.2  pathtraver   \n1            True     2       00002               1.2  pathtraver   \n2            True     3       00003               1.2        hash   \n3            True     4       00004               1.2  trustbound   \n4            True     5       00005               1.2      crypto   \n...           ...   ...         ...               ...         ...   \n2399        False  1514       01514               1.2         xss   \n2500        False  1669       01669               1.2         xss   \n2510        False  1668       01668               1.2         xss   \n2612        False  1592       01592               1.2         xss   \n2645        False  1593       01593               1.2         xss   \n\n     vulnerability  cwe  \n0             true   22  \n1             true   22  \n2             true  328  \n3             true  501  \n4             true  327  \n...            ...  ...  \n2399         false   79  \n2500         false   79  \n2510         false   79  \n2612          true   79  \n2645         false   79  \n\n[2000 rows x 10 columns]",
      "text/html": "<div>\n<style scoped>\n    .dataframe tbody tr th:only-of-type {\n        vertical-align: middle;\n    }\n\n    .dataframe tbody tr th {\n        vertical-align: top;\n    }\n\n    .dataframe thead th {\n        text-align: right;\n    }\n</style>\n<table border=\"1\" class=\"dataframe\">\n  <thead>\n    <tr style=\"text-align: right;\">\n      <th></th>\n      <th>test-id</th>\n      <th>entryMethod</th>\n      <th>hasDataFlow</th>\n      <th>hasCallStack</th>\n      <th>id</th>\n      <th>test-number</th>\n      <th>benchmark-version</th>\n      <th>category</th>\n      <th>vulnerability</th>\n      <th>cwe</th>\n    </tr>\n  </thead>\n  <tbody>\n    <tr>\n      <th>0</th>\n      <td>1</td>\n      <td>&lt;org.owasp.benchmark.testcode.BenchmarkTest000...</td>\n      <td>True</td>\n      <td>True</td>\n      <td>1</td>\n      <td>00001</td>\n      <td>1.2</td>\n      <td>pathtraver</td>\n      <td>true</td>\n      <td>22</td>\n    </tr>\n    <tr>\n      <th>1</th>\n      <td>2</td>\n      <td>&lt;org.owasp.benchmark.testcode.BenchmarkTest000...</td>\n      <td>True</td>\n      <td>True</td>\n      <td>2</td>\n      <td>00002</td>\n      <td>1.2</td>\n      <td>pathtraver</td>\n      <td>true</td>\n      <td>22</td>\n    </tr>\n    <tr>\n      <th>2</th>\n      <td>3</td>\n      <td>&lt;org.owasp.benchmark.testcode.BenchmarkTest000...</td>\n      <td>True</td>\n      <td>True</td>\n      <td>3</td>\n      <td>00003</td>\n      <td>1.2</td>\n      <td>hash</td>\n      <td>true</td>\n      <td>328</td>\n    </tr>\n    <tr>\n      <th>3</th>\n      <td>4</td>\n      <td>&lt;org.owasp.benchmark.testcode.BenchmarkTest000...</td>\n      <td>True</td>\n      <td>True</td>\n      <td>4</td>\n      <td>00004</td>\n      <td>1.2</td>\n      <td>trustbound</td>\n      <td>true</td>\n      <td>501</td>\n    </tr>\n    <tr>\n      <th>4</th>\n      <td>5</td>\n      <td>&lt;org.owasp.benchmark.testcode.BenchmarkTest000...</td>\n      <td>True</td>\n      <td>True</td>\n      <td>5</td>\n      <td>00005</td>\n      <td>1.2</td>\n      <td>crypto</td>\n      <td>true</td>\n      <td>327</td>\n    </tr>\n    <tr>\n      <th>...</th>\n      <td>...</td>\n      <td>...</td>\n      <td>...</td>\n      <td>...</td>\n      <td>...</td>\n      <td>...</td>\n      <td>...</td>\n      <td>...</td>\n      <td>...</td>\n      <td>...</td>\n    </tr>\n    <tr>\n      <th>2399</th>\n      <td>01514</td>\n      <td>NaN</td>\n      <td>False</td>\n      <td>False</td>\n      <td>1514</td>\n      <td>01514</td>\n      <td>1.2</td>\n      <td>xss</td>\n      <td>false</td>\n      <td>79</td>\n    </tr>\n    <tr>\n      <th>2500</th>\n      <td>01669</td>\n      <td>NaN</td>\n      <td>False</td>\n      <td>False</td>\n      <td>1669</td>\n      <td>01669</td>\n      <td>1.2</td>\n      <td>xss</td>\n      <td>false</td>\n      <td>79</td>\n    </tr>\n    <tr>\n      <th>2510</th>\n      <td>01668</td>\n      <td>NaN</td>\n      <td>False</td>\n      <td>False</td>\n      <td>1668</td>\n      <td>01668</td>\n      <td>1.2</td>\n      <td>xss</td>\n      <td>false</td>\n      <td>79</td>\n    </tr>\n    <tr>\n      <th>2612</th>\n      <td>01592</td>\n      <td>NaN</td>\n      <td>False</td>\n      <td>False</td>\n      <td>1592</td>\n      <td>01592</td>\n      <td>1.2</td>\n      <td>xss</td>\n      <td>true</td>\n      <td>79</td>\n    </tr>\n    <tr>\n      <th>2645</th>\n      <td>01593</td>\n      <td>NaN</td>\n      <td>False</td>\n      <td>False</td>\n      <td>1593</td>\n      <td>01593</td>\n      <td>1.2</td>\n      <td>xss</td>\n      <td>false</td>\n      <td>79</td>\n    </tr>\n  </tbody>\n</table>\n<p>2000 rows × 10 columns</p>\n</div>"
     },
     "execution_count": 99,
     "metadata": {},
     "output_type": "execute_result"
    }
   ],
   "source": [
    "\n",
    "merged_df['id'] = merged_df['test-id'].astype(int)\n",
    "filtered_df = merged_df[(merged_df['id'] >= 1) & (merged_df['id'].astype(int) <= num)]\n",
    "filtered_df.to_csv('result-filtered-1500-with-tag.csv', index=False)\n",
    "print(f\"前{num}个benchmark数据点：\")\n",
    "filtered_df\n"
   ],
   "metadata": {
    "collapsed": false,
    "ExecuteTime": {
     "end_time": "2023-10-27T05:56:08.741045Z",
     "start_time": "2023-10-27T05:56:08.633075Z"
    }
   }
  },
  {
   "cell_type": "code",
   "execution_count": 100,
   "outputs": [
    {
     "name": "stdout",
     "output_type": "stream",
     "text": [
      "前2000个benchmark数据点：\n",
      "True Positives (TP): 724\n",
      "False Positives (FP): 518\n",
      "True Negatives (TN): 444\n",
      "False Negatives (FN): 314\n",
      "Youden指数： 0.15903364458277758\n"
     ]
    }
   ],
   "source": [
    "# 条件过滤\n",
    "alert_vul_tag = \"hasDataFlow\"\n",
    "# alert_vul_tag = \"hasCallStack\"\n",
    "tp = len(filtered_df[(filtered_df[alert_vul_tag] == \"True\") & (filtered_df['vulnerability'] == \"true\")])\n",
    "fp = len(filtered_df[(filtered_df[alert_vul_tag] == \"True\") & (filtered_df['vulnerability'] == \"false\")])\n",
    "tn = len(filtered_df[(filtered_df[alert_vul_tag] == \"False\") & (filtered_df['vulnerability'] == \"false\")])\n",
    "fn = len(filtered_df[(filtered_df[alert_vul_tag] == \"False\") & (filtered_df['vulnerability'] == \"true\")])\n",
    "\n",
    "print(f\"前{num}个benchmark数据点：\")\n",
    "# 输出统计结果\n",
    "print(\"True Positives (TP):\", tp)\n",
    "print(\"False Positives (FP):\", fp)\n",
    "print(\"True Negatives (TN):\", tn)\n",
    "print(\"False Negatives (FN):\", fn)\n",
    "\n",
    "tpr = tp/(tp + fn)\n",
    "fpr = fp/(tn + fp)\n",
    "youden = tpr - fpr\n",
    "print(\"Youden指数： \" + str(youden))\n"
   ],
   "metadata": {
    "collapsed": false,
    "ExecuteTime": {
     "end_time": "2023-10-27T05:56:08.749689Z",
     "start_time": "2023-10-27T05:56:08.744862Z"
    }
   }
  },
  {
   "cell_type": "code",
   "execution_count": 101,
   "outputs": [
    {
     "data": {
      "text/plain": "     test-id                                        entryMethod hasDataFlow  \\\n0          1  <org.owasp.benchmark.testcode.BenchmarkTest000...        True   \n1          2  <org.owasp.benchmark.testcode.BenchmarkTest000...        True   \n2          3  <org.owasp.benchmark.testcode.BenchmarkTest000...        True   \n3          4  <org.owasp.benchmark.testcode.BenchmarkTest000...        True   \n4          5  <org.owasp.benchmark.testcode.BenchmarkTest000...        True   \n...      ...                                                ...         ...   \n2399   01514                                                NaN       False   \n2500   01669                                                NaN       False   \n2510   01668                                                NaN       False   \n2612   01592                                                NaN       False   \n2645   01593                                                NaN       False   \n\n     hasCallStack    id test-number benchmark-version    category  \\\n0            True     1       00001               1.2  pathtraver   \n1            True     2       00002               1.2  pathtraver   \n2            True     3       00003               1.2        hash   \n3            True     4       00004               1.2  trustbound   \n4            True     5       00005               1.2      crypto   \n...           ...   ...         ...               ...         ...   \n2399        False  1514       01514               1.2         xss   \n2500        False  1669       01669               1.2         xss   \n2510        False  1668       01668               1.2         xss   \n2612        False  1592       01592               1.2         xss   \n2645        False  1593       01593               1.2         xss   \n\n     vulnerability  cwe  \n0             true   22  \n1             true   22  \n2             true  328  \n3             true  501  \n4             true  327  \n...            ...  ...  \n2399         false   79  \n2500         false   79  \n2510         false   79  \n2612          true   79  \n2645         false   79  \n\n[2000 rows x 10 columns]",
      "text/html": "<div>\n<style scoped>\n    .dataframe tbody tr th:only-of-type {\n        vertical-align: middle;\n    }\n\n    .dataframe tbody tr th {\n        vertical-align: top;\n    }\n\n    .dataframe thead th {\n        text-align: right;\n    }\n</style>\n<table border=\"1\" class=\"dataframe\">\n  <thead>\n    <tr style=\"text-align: right;\">\n      <th></th>\n      <th>test-id</th>\n      <th>entryMethod</th>\n      <th>hasDataFlow</th>\n      <th>hasCallStack</th>\n      <th>id</th>\n      <th>test-number</th>\n      <th>benchmark-version</th>\n      <th>category</th>\n      <th>vulnerability</th>\n      <th>cwe</th>\n    </tr>\n  </thead>\n  <tbody>\n    <tr>\n      <th>0</th>\n      <td>1</td>\n      <td>&lt;org.owasp.benchmark.testcode.BenchmarkTest000...</td>\n      <td>True</td>\n      <td>True</td>\n      <td>1</td>\n      <td>00001</td>\n      <td>1.2</td>\n      <td>pathtraver</td>\n      <td>true</td>\n      <td>22</td>\n    </tr>\n    <tr>\n      <th>1</th>\n      <td>2</td>\n      <td>&lt;org.owasp.benchmark.testcode.BenchmarkTest000...</td>\n      <td>True</td>\n      <td>True</td>\n      <td>2</td>\n      <td>00002</td>\n      <td>1.2</td>\n      <td>pathtraver</td>\n      <td>true</td>\n      <td>22</td>\n    </tr>\n    <tr>\n      <th>2</th>\n      <td>3</td>\n      <td>&lt;org.owasp.benchmark.testcode.BenchmarkTest000...</td>\n      <td>True</td>\n      <td>True</td>\n      <td>3</td>\n      <td>00003</td>\n      <td>1.2</td>\n      <td>hash</td>\n      <td>true</td>\n      <td>328</td>\n    </tr>\n    <tr>\n      <th>3</th>\n      <td>4</td>\n      <td>&lt;org.owasp.benchmark.testcode.BenchmarkTest000...</td>\n      <td>True</td>\n      <td>True</td>\n      <td>4</td>\n      <td>00004</td>\n      <td>1.2</td>\n      <td>trustbound</td>\n      <td>true</td>\n      <td>501</td>\n    </tr>\n    <tr>\n      <th>4</th>\n      <td>5</td>\n      <td>&lt;org.owasp.benchmark.testcode.BenchmarkTest000...</td>\n      <td>True</td>\n      <td>True</td>\n      <td>5</td>\n      <td>00005</td>\n      <td>1.2</td>\n      <td>crypto</td>\n      <td>true</td>\n      <td>327</td>\n    </tr>\n    <tr>\n      <th>...</th>\n      <td>...</td>\n      <td>...</td>\n      <td>...</td>\n      <td>...</td>\n      <td>...</td>\n      <td>...</td>\n      <td>...</td>\n      <td>...</td>\n      <td>...</td>\n      <td>...</td>\n    </tr>\n    <tr>\n      <th>2399</th>\n      <td>01514</td>\n      <td>NaN</td>\n      <td>False</td>\n      <td>False</td>\n      <td>1514</td>\n      <td>01514</td>\n      <td>1.2</td>\n      <td>xss</td>\n      <td>false</td>\n      <td>79</td>\n    </tr>\n    <tr>\n      <th>2500</th>\n      <td>01669</td>\n      <td>NaN</td>\n      <td>False</td>\n      <td>False</td>\n      <td>1669</td>\n      <td>01669</td>\n      <td>1.2</td>\n      <td>xss</td>\n      <td>false</td>\n      <td>79</td>\n    </tr>\n    <tr>\n      <th>2510</th>\n      <td>01668</td>\n      <td>NaN</td>\n      <td>False</td>\n      <td>False</td>\n      <td>1668</td>\n      <td>01668</td>\n      <td>1.2</td>\n      <td>xss</td>\n      <td>false</td>\n      <td>79</td>\n    </tr>\n    <tr>\n      <th>2612</th>\n      <td>01592</td>\n      <td>NaN</td>\n      <td>False</td>\n      <td>False</td>\n      <td>1592</td>\n      <td>01592</td>\n      <td>1.2</td>\n      <td>xss</td>\n      <td>true</td>\n      <td>79</td>\n    </tr>\n    <tr>\n      <th>2645</th>\n      <td>01593</td>\n      <td>NaN</td>\n      <td>False</td>\n      <td>False</td>\n      <td>1593</td>\n      <td>01593</td>\n      <td>1.2</td>\n      <td>xss</td>\n      <td>false</td>\n      <td>79</td>\n    </tr>\n  </tbody>\n</table>\n<p>2000 rows × 10 columns</p>\n</div>"
     },
     "execution_count": 101,
     "metadata": {},
     "output_type": "execute_result"
    }
   ],
   "source": [
    "filtered_df"
   ],
   "metadata": {
    "collapsed": false,
    "ExecuteTime": {
     "end_time": "2023-10-27T05:56:08.756835Z",
     "start_time": "2023-10-27T05:56:08.753983Z"
    }
   }
  },
  {
   "cell_type": "code",
   "execution_count": 102,
   "outputs": [
    {
     "data": {
      "text/plain": "     test-id                                        entryMethod hasDataFlow  \\\n0          1  <org.owasp.benchmark.testcode.BenchmarkTest000...        True   \n1          2  <org.owasp.benchmark.testcode.BenchmarkTest000...        True   \n2          3  <org.owasp.benchmark.testcode.BenchmarkTest000...        True   \n3          4  <org.owasp.benchmark.testcode.BenchmarkTest000...        True   \n4          5  <org.owasp.benchmark.testcode.BenchmarkTest000...        True   \n...      ...                                                ...         ...   \n2735   02249                                                NaN       False   \n2736   02513                                                NaN       False   \n2737   02275                                                NaN       False   \n2738   02261                                                NaN       False   \n2739   02507                                                NaN       False   \n\n     hasCallStack    id test-number benchmark-version      category  \\\n0            True     1       00001               1.2    pathtraver   \n1            True     2       00002               1.2    pathtraver   \n2            True     3       00003               1.2          hash   \n3            True     4       00004               1.2    trustbound   \n4            True     5       00005               1.2        crypto   \n...           ...   ...         ...               ...           ...   \n2735        False  2249       02249               1.2          cmdi   \n2736        False  2513       02513               1.2          cmdi   \n2737        False  2275       02275               1.2          sqli   \n2738        False  2261       02261               1.2    trustbound   \n2739        False  2507       02507               1.2  securecookie   \n\n     vulnerability  cwe  \n0             true   22  \n1             true   22  \n2             true  328  \n3             true  501  \n4             true  327  \n...            ...  ...  \n2735          true   78  \n2736         false   78  \n2737          true   89  \n2738          true  501  \n2739          true  614  \n\n[2740 rows x 10 columns]",
      "text/html": "<div>\n<style scoped>\n    .dataframe tbody tr th:only-of-type {\n        vertical-align: middle;\n    }\n\n    .dataframe tbody tr th {\n        vertical-align: top;\n    }\n\n    .dataframe thead th {\n        text-align: right;\n    }\n</style>\n<table border=\"1\" class=\"dataframe\">\n  <thead>\n    <tr style=\"text-align: right;\">\n      <th></th>\n      <th>test-id</th>\n      <th>entryMethod</th>\n      <th>hasDataFlow</th>\n      <th>hasCallStack</th>\n      <th>id</th>\n      <th>test-number</th>\n      <th>benchmark-version</th>\n      <th>category</th>\n      <th>vulnerability</th>\n      <th>cwe</th>\n    </tr>\n  </thead>\n  <tbody>\n    <tr>\n      <th>0</th>\n      <td>1</td>\n      <td>&lt;org.owasp.benchmark.testcode.BenchmarkTest000...</td>\n      <td>True</td>\n      <td>True</td>\n      <td>1</td>\n      <td>00001</td>\n      <td>1.2</td>\n      <td>pathtraver</td>\n      <td>true</td>\n      <td>22</td>\n    </tr>\n    <tr>\n      <th>1</th>\n      <td>2</td>\n      <td>&lt;org.owasp.benchmark.testcode.BenchmarkTest000...</td>\n      <td>True</td>\n      <td>True</td>\n      <td>2</td>\n      <td>00002</td>\n      <td>1.2</td>\n      <td>pathtraver</td>\n      <td>true</td>\n      <td>22</td>\n    </tr>\n    <tr>\n      <th>2</th>\n      <td>3</td>\n      <td>&lt;org.owasp.benchmark.testcode.BenchmarkTest000...</td>\n      <td>True</td>\n      <td>True</td>\n      <td>3</td>\n      <td>00003</td>\n      <td>1.2</td>\n      <td>hash</td>\n      <td>true</td>\n      <td>328</td>\n    </tr>\n    <tr>\n      <th>3</th>\n      <td>4</td>\n      <td>&lt;org.owasp.benchmark.testcode.BenchmarkTest000...</td>\n      <td>True</td>\n      <td>True</td>\n      <td>4</td>\n      <td>00004</td>\n      <td>1.2</td>\n      <td>trustbound</td>\n      <td>true</td>\n      <td>501</td>\n    </tr>\n    <tr>\n      <th>4</th>\n      <td>5</td>\n      <td>&lt;org.owasp.benchmark.testcode.BenchmarkTest000...</td>\n      <td>True</td>\n      <td>True</td>\n      <td>5</td>\n      <td>00005</td>\n      <td>1.2</td>\n      <td>crypto</td>\n      <td>true</td>\n      <td>327</td>\n    </tr>\n    <tr>\n      <th>...</th>\n      <td>...</td>\n      <td>...</td>\n      <td>...</td>\n      <td>...</td>\n      <td>...</td>\n      <td>...</td>\n      <td>...</td>\n      <td>...</td>\n      <td>...</td>\n      <td>...</td>\n    </tr>\n    <tr>\n      <th>2735</th>\n      <td>02249</td>\n      <td>NaN</td>\n      <td>False</td>\n      <td>False</td>\n      <td>2249</td>\n      <td>02249</td>\n      <td>1.2</td>\n      <td>cmdi</td>\n      <td>true</td>\n      <td>78</td>\n    </tr>\n    <tr>\n      <th>2736</th>\n      <td>02513</td>\n      <td>NaN</td>\n      <td>False</td>\n      <td>False</td>\n      <td>2513</td>\n      <td>02513</td>\n      <td>1.2</td>\n      <td>cmdi</td>\n      <td>false</td>\n      <td>78</td>\n    </tr>\n    <tr>\n      <th>2737</th>\n      <td>02275</td>\n      <td>NaN</td>\n      <td>False</td>\n      <td>False</td>\n      <td>2275</td>\n      <td>02275</td>\n      <td>1.2</td>\n      <td>sqli</td>\n      <td>true</td>\n      <td>89</td>\n    </tr>\n    <tr>\n      <th>2738</th>\n      <td>02261</td>\n      <td>NaN</td>\n      <td>False</td>\n      <td>False</td>\n      <td>2261</td>\n      <td>02261</td>\n      <td>1.2</td>\n      <td>trustbound</td>\n      <td>true</td>\n      <td>501</td>\n    </tr>\n    <tr>\n      <th>2739</th>\n      <td>02507</td>\n      <td>NaN</td>\n      <td>False</td>\n      <td>False</td>\n      <td>2507</td>\n      <td>02507</td>\n      <td>1.2</td>\n      <td>securecookie</td>\n      <td>true</td>\n      <td>614</td>\n    </tr>\n  </tbody>\n</table>\n<p>2740 rows × 10 columns</p>\n</div>"
     },
     "execution_count": 102,
     "metadata": {},
     "output_type": "execute_result"
    }
   ],
   "source": [
    "merged_df"
   ],
   "metadata": {
    "collapsed": false,
    "ExecuteTime": {
     "end_time": "2023-10-27T05:56:08.776047Z",
     "start_time": "2023-10-27T05:56:08.761828Z"
    }
   }
  },
  {
   "cell_type": "code",
   "execution_count": 103,
   "outputs": [
    {
     "data": {
      "text/plain": "Empty DataFrame\nColumns: [test-id, entryMethod, hasDataFlow, hasCallStack, id, test-number, benchmark-version, category, vulnerability, cwe]\nIndex: []",
      "text/html": "<div>\n<style scoped>\n    .dataframe tbody tr th:only-of-type {\n        vertical-align: middle;\n    }\n\n    .dataframe tbody tr th {\n        vertical-align: top;\n    }\n\n    .dataframe thead th {\n        text-align: right;\n    }\n</style>\n<table border=\"1\" class=\"dataframe\">\n  <thead>\n    <tr style=\"text-align: right;\">\n      <th></th>\n      <th>test-id</th>\n      <th>entryMethod</th>\n      <th>hasDataFlow</th>\n      <th>hasCallStack</th>\n      <th>id</th>\n      <th>test-number</th>\n      <th>benchmark-version</th>\n      <th>category</th>\n      <th>vulnerability</th>\n      <th>cwe</th>\n    </tr>\n  </thead>\n  <tbody>\n  </tbody>\n</table>\n</div>"
     },
     "execution_count": 103,
     "metadata": {},
     "output_type": "execute_result"
    }
   ],
   "source": [
    "merged_df[merged_df['test-id'] == '00011']"
   ],
   "metadata": {
    "collapsed": false,
    "ExecuteTime": {
     "end_time": "2023-10-27T05:56:08.801459Z",
     "start_time": "2023-10-27T05:56:08.767061Z"
    }
   }
  },
  {
   "cell_type": "code",
   "execution_count": 104,
   "outputs": [
    {
     "data": {
      "text/plain": "     test-id                                        entryMethod hasDataFlow  \\\n6          7  <org.owasp.benchmark.testcode.BenchmarkTest000...       False   \n10        11  <org.owasp.benchmark.testcode.BenchmarkTest000...       False   \n12        13  <org.owasp.benchmark.testcode.BenchmarkTest000...       False   \n13        14  <org.owasp.benchmark.testcode.BenchmarkTest000...       False   \n22        23  <org.owasp.benchmark.testcode.BenchmarkTest000...       False   \n...      ...                                                ...         ...   \n1987   02000  <org.owasp.benchmark.testcode.BenchmarkTest020...       False   \n2243   01667                                                NaN       False   \n2313   01927                                                NaN       False   \n2359   01926                                                NaN       False   \n2612   01592                                                NaN       False   \n\n     hasCallStack    id test-number benchmark-version    category  \\\n6            True     7       00007               1.2        cmdi   \n10           True    11       00011               1.2  pathtraver   \n12           True    13       00013               1.2         xss   \n13           True    14       00014               1.2         xss   \n22           True    23       00023               1.2    weakrand   \n...           ...   ...         ...               ...         ...   \n1987         True  2000       02000               1.2    weakrand   \n2243        False  1667       01667               1.2         xss   \n2313        False  1927       01927               1.2         xss   \n2359        False  1926       01926               1.2         xss   \n2612        False  1592       01592               1.2         xss   \n\n     vulnerability  cwe  \n6             true   78  \n10            true   22  \n12            true   79  \n13            true   79  \n22            true  330  \n...            ...  ...  \n1987          true  330  \n2243          true   79  \n2313          true   79  \n2359          true   79  \n2612          true   79  \n\n[314 rows x 10 columns]",
      "text/html": "<div>\n<style scoped>\n    .dataframe tbody tr th:only-of-type {\n        vertical-align: middle;\n    }\n\n    .dataframe tbody tr th {\n        vertical-align: top;\n    }\n\n    .dataframe thead th {\n        text-align: right;\n    }\n</style>\n<table border=\"1\" class=\"dataframe\">\n  <thead>\n    <tr style=\"text-align: right;\">\n      <th></th>\n      <th>test-id</th>\n      <th>entryMethod</th>\n      <th>hasDataFlow</th>\n      <th>hasCallStack</th>\n      <th>id</th>\n      <th>test-number</th>\n      <th>benchmark-version</th>\n      <th>category</th>\n      <th>vulnerability</th>\n      <th>cwe</th>\n    </tr>\n  </thead>\n  <tbody>\n    <tr>\n      <th>6</th>\n      <td>7</td>\n      <td>&lt;org.owasp.benchmark.testcode.BenchmarkTest000...</td>\n      <td>False</td>\n      <td>True</td>\n      <td>7</td>\n      <td>00007</td>\n      <td>1.2</td>\n      <td>cmdi</td>\n      <td>true</td>\n      <td>78</td>\n    </tr>\n    <tr>\n      <th>10</th>\n      <td>11</td>\n      <td>&lt;org.owasp.benchmark.testcode.BenchmarkTest000...</td>\n      <td>False</td>\n      <td>True</td>\n      <td>11</td>\n      <td>00011</td>\n      <td>1.2</td>\n      <td>pathtraver</td>\n      <td>true</td>\n      <td>22</td>\n    </tr>\n    <tr>\n      <th>12</th>\n      <td>13</td>\n      <td>&lt;org.owasp.benchmark.testcode.BenchmarkTest000...</td>\n      <td>False</td>\n      <td>True</td>\n      <td>13</td>\n      <td>00013</td>\n      <td>1.2</td>\n      <td>xss</td>\n      <td>true</td>\n      <td>79</td>\n    </tr>\n    <tr>\n      <th>13</th>\n      <td>14</td>\n      <td>&lt;org.owasp.benchmark.testcode.BenchmarkTest000...</td>\n      <td>False</td>\n      <td>True</td>\n      <td>14</td>\n      <td>00014</td>\n      <td>1.2</td>\n      <td>xss</td>\n      <td>true</td>\n      <td>79</td>\n    </tr>\n    <tr>\n      <th>22</th>\n      <td>23</td>\n      <td>&lt;org.owasp.benchmark.testcode.BenchmarkTest000...</td>\n      <td>False</td>\n      <td>True</td>\n      <td>23</td>\n      <td>00023</td>\n      <td>1.2</td>\n      <td>weakrand</td>\n      <td>true</td>\n      <td>330</td>\n    </tr>\n    <tr>\n      <th>...</th>\n      <td>...</td>\n      <td>...</td>\n      <td>...</td>\n      <td>...</td>\n      <td>...</td>\n      <td>...</td>\n      <td>...</td>\n      <td>...</td>\n      <td>...</td>\n      <td>...</td>\n    </tr>\n    <tr>\n      <th>1987</th>\n      <td>02000</td>\n      <td>&lt;org.owasp.benchmark.testcode.BenchmarkTest020...</td>\n      <td>False</td>\n      <td>True</td>\n      <td>2000</td>\n      <td>02000</td>\n      <td>1.2</td>\n      <td>weakrand</td>\n      <td>true</td>\n      <td>330</td>\n    </tr>\n    <tr>\n      <th>2243</th>\n      <td>01667</td>\n      <td>NaN</td>\n      <td>False</td>\n      <td>False</td>\n      <td>1667</td>\n      <td>01667</td>\n      <td>1.2</td>\n      <td>xss</td>\n      <td>true</td>\n      <td>79</td>\n    </tr>\n    <tr>\n      <th>2313</th>\n      <td>01927</td>\n      <td>NaN</td>\n      <td>False</td>\n      <td>False</td>\n      <td>1927</td>\n      <td>01927</td>\n      <td>1.2</td>\n      <td>xss</td>\n      <td>true</td>\n      <td>79</td>\n    </tr>\n    <tr>\n      <th>2359</th>\n      <td>01926</td>\n      <td>NaN</td>\n      <td>False</td>\n      <td>False</td>\n      <td>1926</td>\n      <td>01926</td>\n      <td>1.2</td>\n      <td>xss</td>\n      <td>true</td>\n      <td>79</td>\n    </tr>\n    <tr>\n      <th>2612</th>\n      <td>01592</td>\n      <td>NaN</td>\n      <td>False</td>\n      <td>False</td>\n      <td>1592</td>\n      <td>01592</td>\n      <td>1.2</td>\n      <td>xss</td>\n      <td>true</td>\n      <td>79</td>\n    </tr>\n  </tbody>\n</table>\n<p>314 rows × 10 columns</p>\n</div>"
     },
     "execution_count": 104,
     "metadata": {},
     "output_type": "execute_result"
    }
   ],
   "source": [
    "df_fn = filtered_df[(filtered_df[alert_vul_tag] == \"False\") & (filtered_df['vulnerability'] == \"true\")]\n",
    "df_fn"
   ],
   "metadata": {
    "collapsed": false,
    "ExecuteTime": {
     "end_time": "2023-10-27T05:56:08.829408Z",
     "start_time": "2023-10-27T05:56:08.770787Z"
    }
   }
  },
  {
   "cell_type": "code",
   "execution_count": 105,
   "outputs": [],
   "source": [
    "filtered_df.to_csv(f\"./test_result_{num}.csv\")"
   ],
   "metadata": {
    "collapsed": false,
    "ExecuteTime": {
     "end_time": "2023-10-27T05:56:08.912492Z",
     "start_time": "2023-10-27T05:56:08.778273Z"
    }
   }
  },
  {
   "cell_type": "code",
   "execution_count": 105,
   "outputs": [],
   "source": [],
   "metadata": {
    "collapsed": false,
    "ExecuteTime": {
     "end_time": "2023-10-27T05:56:08.924480Z",
     "start_time": "2023-10-27T05:56:08.888660Z"
    }
   }
  }
 ],
 "metadata": {
  "kernelspec": {
   "display_name": "Python 3",
   "language": "python",
   "name": "python3"
  },
  "language_info": {
   "codemirror_mode": {
    "name": "ipython",
    "version": 2
   },
   "file_extension": ".py",
   "mimetype": "text/x-python",
   "name": "python",
   "nbconvert_exporter": "python",
   "pygments_lexer": "ipython2",
   "version": "2.7.6"
  }
 },
 "nbformat": 4,
 "nbformat_minor": 0
}
